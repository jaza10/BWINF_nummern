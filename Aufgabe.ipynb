{
 "cells": [
  {
   "cell_type": "code",
   "execution_count": 450,
   "metadata": {},
   "outputs": [],
   "source": [
    "import pandas as pd"
   ]
  },
  {
   "cell_type": "code",
   "execution_count": 452,
   "metadata": {},
   "outputs": [
    {
     "data": {
      "text/html": [
       "<div>\n",
       "<style scoped>\n",
       "    .dataframe tbody tr th:only-of-type {\n",
       "        vertical-align: middle;\n",
       "    }\n",
       "\n",
       "    .dataframe tbody tr th {\n",
       "        vertical-align: top;\n",
       "    }\n",
       "\n",
       "    .dataframe thead th {\n",
       "        text-align: right;\n",
       "    }\n",
       "</style>\n",
       "<table border=\"1\" class=\"dataframe\">\n",
       "  <thead>\n",
       "    <tr style=\"text-align: right;\">\n",
       "      <th></th>\n",
       "      <th>0</th>\n",
       "    </tr>\n",
       "  </thead>\n",
       "  <tbody>\n",
       "    <tr>\n",
       "      <th>0</th>\n",
       "      <td>005480000005179734</td>\n",
       "    </tr>\n",
       "    <tr>\n",
       "      <th>1</th>\n",
       "      <td>03495929533790154412660</td>\n",
       "    </tr>\n",
       "    <tr>\n",
       "      <th>2</th>\n",
       "      <td>5319974879022725607620179</td>\n",
       "    </tr>\n",
       "    <tr>\n",
       "      <th>3</th>\n",
       "      <td>9088761051699482789038331267</td>\n",
       "    </tr>\n",
       "    <tr>\n",
       "      <th>4</th>\n",
       "      <td>011000000011000100111111101011</td>\n",
       "    </tr>\n",
       "  </tbody>\n",
       "</table>\n",
       "</div>"
      ],
      "text/plain": [
       "                                0\n",
       "0              005480000005179734\n",
       "1         03495929533790154412660\n",
       "2       5319974879022725607620179\n",
       "3    9088761051699482789038331267\n",
       "4  011000000011000100111111101011"
      ]
     },
     "execution_count": 452,
     "metadata": {},
     "output_type": "execute_result"
    }
   ],
   "source": [
    "data = pd.read_csv('Eingabe', header=None, dtype=str)\n",
    "data"
   ]
  },
  {
   "cell_type": "code",
   "execution_count": 353,
   "metadata": {},
   "outputs": [],
   "source": [
    "def lindexsplit(List,lindex):\n",
    "\n",
    "    index = list(lindex)\n",
    "\n",
    "    index.sort()\n",
    "\n",
    "    templist1 = []\n",
    "    templist2 = []\n",
    "    templist3 = []\n",
    "\n",
    "    breakcounter = 0\n",
    "    itemcounter = 0\n",
    "    finalcounter = 0\n",
    "\n",
    "\n",
    "    numberofbreaks = len(index)\n",
    "    totalitems = len(List)\n",
    "\n",
    "    lastindexval = index[(len(index)-1)]\n",
    "    finalcounttrigger = (totalitems-(lastindexval+1))\n",
    "\n",
    "    for item in List:\n",
    "\n",
    "        itemcounter += 1\n",
    "\n",
    "        indexofitem = itemcounter - 1\n",
    "\n",
    "        nextbreakindex = index[breakcounter]\n",
    "\n",
    "        #Less than the last cut\n",
    "        if breakcounter <= numberofbreaks:\n",
    "\n",
    "            if indexofitem < nextbreakindex:\n",
    "\n",
    "                templist1.append(item)\n",
    "\n",
    "            elif breakcounter < (numberofbreaks - 1):\n",
    "\n",
    "                templist1.append(item)\n",
    "\n",
    "                templist2.append(templist1)\n",
    "\n",
    "                templist1 = []\n",
    "\n",
    "                breakcounter +=1\n",
    "\n",
    "            else:\n",
    "\n",
    "                if indexofitem <= lastindexval and indexofitem <= totalitems:\n",
    "\n",
    "                    templist1.append(item)\n",
    "\n",
    "                    templist2.append(templist1)\n",
    "\n",
    "                    templist1 = []\n",
    "\n",
    "                else:\n",
    "\n",
    "                    if indexofitem >= lastindexval and indexofitem < totalitems + 1:\n",
    "\n",
    "                        finalcounter += 1\n",
    "\n",
    "                        templist3.append(item)\n",
    "\n",
    "                        if finalcounter == finalcounttrigger:\n",
    "\n",
    "                            templist2.append(templist3)\n",
    "\n",
    "    return templist2"
   ]
  },
  {
   "cell_type": "code",
   "execution_count": 447,
   "metadata": {},
   "outputs": [],
   "source": [
    "def connect_splits(no_splits, split):\n",
    "    i = 0\n",
    "    result = ''\n",
    "    if (no_splits != 0):\n",
    "        while (i <= no_splits):\n",
    "            if ( i == 0):\n",
    "                result = result + ''.join(split[i])\n",
    "            else:\n",
    "                result = result + ' ' + ''.join(split[i])\n",
    "            i = i+1\n",
    "    else:\n",
    "        result = ''.join(split[0])\n",
    "    return result"
   ]
  },
  {
   "cell_type": "code",
   "execution_count": 492,
   "metadata": {},
   "outputs": [],
   "source": [
    "def find_splits(data):\n",
    "    index_splits = []\n",
    "    step_counter = 0\n",
    "    for i in range(0,len(data)-2):\n",
    "        if (len(data) <= 3):\n",
    "            break\n",
    "        if (i == 0):\n",
    "            step_counter += 1\n",
    "            continue\n",
    "        if (len(index_splits) > 0 and (i - index_splits[-1] == 1)):\n",
    "            step_counter += 1\n",
    "            continue\n",
    "        if (step_counter == 3):\n",
    "            index_splits.append(i)\n",
    "            step_counter = 0\n",
    "            continue\n",
    "        if (data[i+2] == '0'):\n",
    "            index_splits.append(i)\n",
    "            step_counter = 0\n",
    "            continue\n",
    "        if (i == len(data)-3):\n",
    "            index_splits.append(i)\n",
    "        step_counter += 1\n",
    "    \n",
    "    return index_splits      "
   ]
  },
  {
   "cell_type": "code",
   "execution_count": 543,
   "metadata": {},
   "outputs": [],
   "source": [
    "def check_consecutive_zeros(data):\n",
    "    for i in range(len(data)):\n",
    "        if (data[i]=='0'and data[i+1]==' ' and data[i+2]=='0'):\n",
    "            print(\"yay\")\n",
    "            print(i)\n",
    "            print(\"g\"+data[i+1]+\"g\")\n",
    "            data = data[i+1].replace(' ','')\n",
    "            \n",
    "    return data"
   ]
  },
  {
   "cell_type": "code",
   "execution_count": 544,
   "metadata": {
    "scrolled": true
   },
   "outputs": [
    {
     "name": "stdout",
     "output_type": "stream",
     "text": [
      "result = 0054 80 00 0005 1797 34\n",
      "yay\n",
      "6\n",
      "g g\n"
     ]
    },
    {
     "ename": "IndexError",
     "evalue": "string index out of range",
     "output_type": "error",
     "traceback": [
      "\u001b[0;31m---------------------------------------------------------------------------\u001b[0m",
      "\u001b[0;31mIndexError\u001b[0m                                Traceback (most recent call last)",
      "\u001b[0;32m<ipython-input-544-8a0d32a9650a>\u001b[0m in \u001b[0;36m<module>\u001b[0;34m()\u001b[0m\n\u001b[1;32m      4\u001b[0m \u001b[0mresult\u001b[0m \u001b[0;34m=\u001b[0m \u001b[0msplitter\u001b[0m\u001b[0;34m(\u001b[0m\u001b[0mno_splits\u001b[0m\u001b[0;34m,\u001b[0m \u001b[0msplit\u001b[0m\u001b[0;34m)\u001b[0m\u001b[0;34m\u001b[0m\u001b[0m\n\u001b[1;32m      5\u001b[0m \u001b[0mprint\u001b[0m\u001b[0;34m(\u001b[0m\u001b[0;34m\"result = \"\u001b[0m \u001b[0;34m+\u001b[0m \u001b[0mresult\u001b[0m\u001b[0;34m)\u001b[0m\u001b[0;34m\u001b[0m\u001b[0m\n\u001b[0;32m----> 6\u001b[0;31m \u001b[0mprint\u001b[0m\u001b[0;34m(\u001b[0m\u001b[0;34m\"result = \"\u001b[0m \u001b[0;34m+\u001b[0m \u001b[0mcheck_consecutive_zeros\u001b[0m\u001b[0;34m(\u001b[0m\u001b[0mresult\u001b[0m\u001b[0;34m)\u001b[0m\u001b[0;34m)\u001b[0m\u001b[0;34m\u001b[0m\u001b[0m\n\u001b[0m",
      "\u001b[0;32m<ipython-input-543-4f37970255c3>\u001b[0m in \u001b[0;36mcheck_consecutive_zeros\u001b[0;34m(data)\u001b[0m\n\u001b[1;32m      1\u001b[0m \u001b[0;32mdef\u001b[0m \u001b[0mcheck_consecutive_zeros\u001b[0m\u001b[0;34m(\u001b[0m\u001b[0mdata\u001b[0m\u001b[0;34m)\u001b[0m\u001b[0;34m:\u001b[0m\u001b[0;34m\u001b[0m\u001b[0m\n\u001b[1;32m      2\u001b[0m     \u001b[0;32mfor\u001b[0m \u001b[0mi\u001b[0m \u001b[0;32min\u001b[0m \u001b[0mrange\u001b[0m\u001b[0;34m(\u001b[0m\u001b[0mlen\u001b[0m\u001b[0;34m(\u001b[0m\u001b[0mdata\u001b[0m\u001b[0;34m)\u001b[0m\u001b[0;34m)\u001b[0m\u001b[0;34m:\u001b[0m\u001b[0;34m\u001b[0m\u001b[0m\n\u001b[0;32m----> 3\u001b[0;31m         \u001b[0;32mif\u001b[0m \u001b[0;34m(\u001b[0m\u001b[0mdata\u001b[0m\u001b[0;34m[\u001b[0m\u001b[0mi\u001b[0m\u001b[0;34m]\u001b[0m\u001b[0;34m==\u001b[0m\u001b[0;34m'0'\u001b[0m\u001b[0;32mand\u001b[0m \u001b[0mdata\u001b[0m\u001b[0;34m[\u001b[0m\u001b[0mi\u001b[0m\u001b[0;34m+\u001b[0m\u001b[0;36m1\u001b[0m\u001b[0;34m]\u001b[0m\u001b[0;34m==\u001b[0m\u001b[0;34m' '\u001b[0m \u001b[0;32mand\u001b[0m \u001b[0mdata\u001b[0m\u001b[0;34m[\u001b[0m\u001b[0mi\u001b[0m\u001b[0;34m+\u001b[0m\u001b[0;36m2\u001b[0m\u001b[0;34m]\u001b[0m\u001b[0;34m==\u001b[0m\u001b[0;34m'0'\u001b[0m\u001b[0;34m)\u001b[0m\u001b[0;34m:\u001b[0m\u001b[0;34m\u001b[0m\u001b[0m\n\u001b[0m\u001b[1;32m      4\u001b[0m             \u001b[0mprint\u001b[0m\u001b[0;34m(\u001b[0m\u001b[0;34m\"yay\"\u001b[0m\u001b[0;34m)\u001b[0m\u001b[0;34m\u001b[0m\u001b[0m\n\u001b[1;32m      5\u001b[0m             \u001b[0mprint\u001b[0m\u001b[0;34m(\u001b[0m\u001b[0mi\u001b[0m\u001b[0;34m)\u001b[0m\u001b[0;34m\u001b[0m\u001b[0m\n",
      "\u001b[0;31mIndexError\u001b[0m: string index out of range"
     ]
    }
   ],
   "source": [
    "find_splits_result = find_splits(data[0][0])\n",
    "no_splits = len(find_splits_result)\n",
    "split = lindexsplit(data[0][0], find_splits_result)\n",
    "result = splitter(no_splits, split)\n",
    "print(\"result = \" + result)\n",
    "print(\"result = \" + check_consecutive_zeros(result))\n"
   ]
  },
  {
   "cell_type": "code",
   "execution_count": 535,
   "metadata": {},
   "outputs": [
    {
     "data": {
      "text/plain": [
       "'0054 80 00 0005 1797 34'"
      ]
     },
     "execution_count": 535,
     "metadata": {},
     "output_type": "execute_result"
    }
   ],
   "source": [
    "split = lindexsplit(data[0][0], find_splits(data[0][0]))\n",
    "result = connect_splits(no_splits, split)\n",
    "result"
   ]
  },
  {
   "cell_type": "code",
   "execution_count": 536,
   "metadata": {},
   "outputs": [],
   "source": [
    "def main(data):\n",
    "    for i in range(data.size):\n",
    "        no_splits = int(len(find_splits(data[0][i])))\n",
    "        if (no_splits != 0):\n",
    "            #print(\"no_splits = \" + str(no_splits))\n",
    "            array = [d for d in str(data[0][i])]\n",
    "            split = lindexsplit(data[0][i], find_splits(data[0][i]))\n",
    "            result = connect_splits(no_splits, split)\n",
    "        else:\n",
    "            result = ''.join(data[0][i])\n",
    "        print(result)\n",
    "    #split_numbers(array)"
   ]
  },
  {
   "cell_type": "code",
   "execution_count": 457,
   "metadata": {
    "scrolled": true
   },
   "outputs": [
    {
     "name": "stdout",
     "output_type": "stream",
     "text": [
      "0054 80 00 0005 1797 34\n",
      "0349 5929 5337 9015 4412 660\n",
      "5319 9748 7902 2725 6076 201 79\n",
      "9088 76 1051 6994 8278 9038 3312 67\n",
      "01 10 00 00 001 10 00 1001 1111 110 10 11\n"
     ]
    }
   ],
   "source": [
    "main(data)"
   ]
  },
  {
   "cell_type": "code",
   "execution_count": null,
   "metadata": {},
   "outputs": [],
   "source": []
  },
  {
   "cell_type": "markdown",
   "metadata": {},
   "source": [
    "# Testing"
   ]
  },
  {
   "cell_type": "code",
   "execution_count": 190,
   "metadata": {},
   "outputs": [],
   "source": [
    "def split_numbers(array):\n",
    "    no_splits = int(len(array)/4)\n",
    "    result = ''\n",
    "    if (no_splits == 0):\n",
    "        result = ' ' + ''.join(array)\n",
    "        print(result)\n",
    "    if (no_splits == 1):\n",
    "        split = lindexsplit(array,3)\n",
    "        result = splitter(no_splits, split)\n",
    "        print(result)\n",
    "    if (no_splits == 2):\n",
    "        split = lindexsplit(array,3,7) \n",
    "        result = splitter(no_splits, split)\n",
    "        print(result)\n",
    "    if (no_splits == 3):\n",
    "        split = lindexsplit(array,3,7,11)\n",
    "        result = splitter(no_splits, split)\n",
    "        print(result)\n",
    "    if (no_splits == 4):\n",
    "        split = lindexsplit(array,3,7,11,15)\n",
    "        result = splitter(no_splits, split)\n",
    "        print(result)\n",
    "    if (no_splits == 5):\n",
    "        split = lindexsplit(array,3,7,11,15,19)\n",
    "        result = splitter(no_splits, split)\n",
    "        print(result)\n",
    "    if (no_splits == 6):\n",
    "        split = lindexsplit(array,3,7,11,15,19,23)\n",
    "        result = splitter(no_splits, split)\n",
    "        print(result)\n",
    "    if (no_splits == 7):\n",
    "        split = lindexsplit(array,3,7,11,15,19,23,27)\n",
    "        result = splitter(no_splits, split)\n",
    "        print(result)"
   ]
  },
  {
   "cell_type": "code",
   "execution_count": 242,
   "metadata": {},
   "outputs": [
    {
     "data": {
      "text/plain": [
       "'176200982989090000'"
      ]
     },
     "execution_count": 242,
     "metadata": {},
     "output_type": "execute_result"
    }
   ],
   "source": [
    "string_1"
   ]
  },
  {
   "cell_type": "code",
   "execution_count": null,
   "metadata": {},
   "outputs": [],
   "source": []
  },
  {
   "cell_type": "code",
   "execution_count": null,
   "metadata": {},
   "outputs": [],
   "source": [
    "for i in range(len(string_1)):\n",
    "    if (i == 3 and string_1[i] == 0 and string_1[i+1] != 0):\n",
    "        string_1.split[3]"
   ]
  },
  {
   "cell_type": "code",
   "execution_count": null,
   "metadata": {},
   "outputs": [],
   "source": []
  },
  {
   "cell_type": "code",
   "execution_count": 235,
   "metadata": {},
   "outputs": [
    {
     "name": "stdout",
     "output_type": "stream",
     "text": [
      "['1', '7', '6', '2', '0', '0', '9', '8', '2', '9', '8', '9', '0', '9', '0', '0', '0', '0']\n"
     ]
    }
   ],
   "source": [
    "array = [d for d in str(data[0][0])]\n",
    "print(array)"
   ]
  },
  {
   "cell_type": "code",
   "execution_count": 233,
   "metadata": {
    "collapsed": true
   },
   "outputs": [
    {
     "name": "stdout",
     "output_type": "stream",
     "text": [
      "1\n",
      "7\n",
      "6\n",
      "2\n",
      "4\n",
      "0\n",
      "9\n",
      "8\n",
      "2\n",
      "9\n",
      "8\n",
      "9\n",
      "0\n",
      "9\n",
      "0\n",
      "0\n",
      "0\n",
      "0\n"
     ]
    }
   ],
   "source": [
    "for elem in data[0][0]:\n",
    "    if (elem == '0')\n",
    "    print(elem)"
   ]
  },
  {
   "cell_type": "code",
   "execution_count": null,
   "metadata": {},
   "outputs": [],
   "source": []
  },
  {
   "cell_type": "markdown",
   "metadata": {},
   "source": [
    "# Backup"
   ]
  },
  {
   "cell_type": "code",
   "execution_count": 250,
   "metadata": {},
   "outputs": [],
   "source": [
    "def find_next_zero(string_1):\n",
    "    index = []\n",
    "    for i in range(len(string_1)):\n",
    "        if (string_1[i+2] == '0'):\n",
    "            index.append(i+1)\n",
    "        if (i % 4 == 0):\n",
    "            index.append(i)\n",
    "            \n",
    "            \n",
    "    for i in range(0,len(string_1)):\n",
    "        if (i < len(string_1) - 2) :\n",
    "            if (string_1[i+2] == '0'):\n",
    "                index.append(i+1)\n",
    "    return index\n"
   ]
  },
  {
   "cell_type": "code",
   "execution_count": 294,
   "metadata": {},
   "outputs": [],
   "source": [
    "def find_splits(string_1):\n",
    "    index_splits = [3,7,11,15]\n",
    "    for i in range(len(string_1)-2):\n",
    "        print(index[i])\n",
    "        if (string_1[index_splits[i+1]]==0 and string_1[index[i]]!=0):\n",
    "            for i in range(index_splits.size):\n",
    "                index[i]=index[i]-1\n",
    "    print(index)"
   ]
  },
  {
   "cell_type": "code",
   "execution_count": 162,
   "metadata": {},
   "outputs": [
    {
     "name": "stdout",
     "output_type": "stream",
     "text": [
      "['1', '7', '6', '2', '4', '0', '9', '8', '2', '9', '8', '9', '0', '9', '0', '0', '0', '0']\n"
     ]
    }
   ],
   "source": [
    "array = [d for d in str(data[0][0])]\n",
    "print(array)"
   ]
  }
 ],
 "metadata": {
  "kernelspec": {
   "display_name": "Python 3",
   "language": "python",
   "name": "python3"
  },
  "language_info": {
   "codemirror_mode": {
    "name": "ipython",
    "version": 3
   },
   "file_extension": ".py",
   "mimetype": "text/x-python",
   "name": "python",
   "nbconvert_exporter": "python",
   "pygments_lexer": "ipython3",
   "version": "3.6.4"
  }
 },
 "nbformat": 4,
 "nbformat_minor": 2
}
